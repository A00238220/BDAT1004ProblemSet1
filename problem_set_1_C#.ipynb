{
 "cells": [
  {
   "cell_type": "code",
   "execution_count": 3,
   "id": "5b8932b3",
   "metadata": {},
   "outputs": [],
   "source": [
    "// Question 1\n",
    "//5\t---> Int32\n",
    "//5.0 ---> \tDouble\n",
    "//5>1 ---> \tBoolean\n",
    "//'5' ---> \tString\n",
    "//5*2 ---> \tInt32\n",
    "//'5' * 2 ---> \tString\n",
    "//'5' + '2'\t--->  String\n",
    "//5 / 2\t--->  Int32\n",
    "//5%2 ---> \tDouble\n",
    "//{5, 2, 1} ---> \tList\n",
    "//5 == 3  --->  Boolean\n",
    "//Pi(the number) --->  Double"
   ]
  },
  {
   "cell_type": "code",
   "execution_count": 4,
   "id": "44e59f21",
   "metadata": {},
   "outputs": [
    {
     "name": "stdout",
     "output_type": "stream",
     "text": [
      "The number of letters in the string is 34\r\n"
     ]
    }
   ],
   "source": [
    "// Question 2\n",
    "//2a\n",
    "//setting string\n",
    "string textString = \"Supercalifragilisticexpialidocious\";\n",
    "\n",
    "//counting length of string and printing\n",
    "int count_letters = textString.Length;\n",
    "Console.WriteLine($\"The number of letters in the string is {count_letters}\");"
   ]
  },
  {
   "cell_type": "code",
   "execution_count": 5,
   "id": "c6d95e63",
   "metadata": {},
   "outputs": [
    {
     "name": "stdout",
     "output_type": "stream",
     "text": [
      "Does 'Supercalifragilisticexpialidocious' contain 'ice' as a substring?\n",
      "True\r\n"
     ]
    }
   ],
   "source": [
    "//2b\n",
    "//settimg boolean to check if the string contains 'ice'\n",
    "bool bool_variable = textString.Contains(\"ice\");\n",
    "Console.WriteLine($\"Does 'Supercalifragilisticexpialidocious' contain 'ice' as a substring?\\n{bool_variable}\");\n"
   ]
  },
  {
   "cell_type": "code",
   "execution_count": 6,
   "id": "29d76b27",
   "metadata": {},
   "outputs": [
    {
     "name": "stdout",
     "output_type": "stream",
     "text": [
      "The longest word (is/are)\n",
      "Supercalifragilisticexpialidocious Bababadalgharaghtakamminarronnkonn\n"
     ]
    }
   ],
   "source": [
    "//c\n",
    "//setting strings\n",
    "string x = \"Supercalifragilisticexpialidocious\";\n",
    "string y = \"Honorificabilitudinitatibus\";\n",
    "string z = \"Bababadalgharaghtakamminarronnkonn\";\n",
    "\n",
    "//setting longest string variable\n",
    "string longest = \"\";\n",
    "\n",
    "//setting conditional statements to check for longest words\n",
    "if (x.Length >= y.Length && x.Length >= z.Length)\n",
    "{\n",
    "\n",
    "    longest = x;\n",
    "}\n",
    "if (y.Length >= x.Length && y.Length >= z.Length)\n",
    "{\n",
    "    longest = $\"{longest} {y}\";\n",
    "}\n",
    "if (z.Length >= x.Length && z.Length >= y.Length)\n",
    "{\n",
    "    longest = $\"{longest} {z}\";\n",
    "}\n",
    "//printing longest words\n",
    "Console.WriteLine(\"The longest word (is/are)\");\n",
    "Console.WriteLine(longest);"
   ]
  },
  {
   "cell_type": "code",
   "execution_count": 7,
   "id": "66bacbcc",
   "metadata": {},
   "outputs": [
    {
     "name": "stdout",
     "output_type": "stream",
     "text": [
      "First composer in the dictionary: Bartok\n",
      "Last composer in the dictionary: Buxtehude\n"
     ]
    }
   ],
   "source": [
    "//d\n",
    "//setting variable to store list of composers\n",
    "List<string> Composers = new List<string>();\n",
    "\n",
    "//adding composers to list\n",
    "Composers.Add(\"Berlioz\");\n",
    "Composers.Add(\"Borodin\");\n",
    "Composers.Add(\"Brain\");\n",
    "Composers.Add(\"Bartok\");\n",
    "Composers.Add(\"Bellini\");\n",
    "Composers.Add(\"Buxtehude\");\n",
    "Composers.Add(\"Bernstein\");\n",
    "\n",
    "//sorting list of composers in ascending order\n",
    "Composers.Sort();\n",
    "\n",
    "//taking a count of items in the list\n",
    "int len = Composers.Count;\n",
    "\n",
    "//storing last list item in a variable\n",
    "int lastobjectpositon = len - 1;\n",
    "\n",
    "//printing first and last item of list\n",
    "Console.WriteLine(\"First composer in the dictionary: {0}\", Composers[0]);\n",
    "Console.WriteLine(\"Last composer in the dictionary: {0}\", Composers[lastobjectpositon]);"
   ]
  },
  {
   "cell_type": "code",
   "execution_count": 8,
   "id": "a328391d",
   "metadata": {},
   "outputs": [
    {
     "name": "stdout",
     "output_type": "stream",
     "text": [
      "Program to Find Area of Triangle\n",
      "The area of the triangle with sides 2, 2, 2 is \n",
      "1.7320508075688772\n"
     ]
    }
   ],
   "source": [
    "// Question 3\n",
    "\n",
    "//defining a function to calculate area of triangle based on input parameters\n",
    "static void triangleArea(double a, double b, double c)\n",
    "{\n",
    "    Console.WriteLine(\"Program to Find Area of Triangle\");\n",
    "    //setting data type for variables\n",
    "    double s, area;\n",
    "\n",
    "    //calculating area\n",
    "    s = (a + b + c) / 2;\n",
    "    area = Math.Sqrt(s * (s - a) * (s - b) * (s - c));\n",
    "\n",
    "    //returning the calculated area\n",
    "    Console.WriteLine($\"The area of the triangle with sides {a}, {b}, {c} is \\n{area}\");\n",
    "}\n",
    "triangleArea(2, 2, 2);"
   ]
  },
  {
   "cell_type": "code",
   "execution_count": 9,
   "id": "317f0ecc",
   "metadata": {},
   "outputs": [
    {
     "name": "stdout",
     "output_type": "stream",
     "text": [
      "How many numbers you want to input?\n",
      "Enter 0 numbers in the array :\n",
      "Even numbers are:\n",
      "\n",
      "---------------------------------------------\n",
      "Odd numbers are:\n"
     ]
    }
   ],
   "source": [
    "// Question 4\n",
    "//code runs better in visual studio\n",
    "\n",
    "//asking user for input and converting input to integer\n",
    "Console.WriteLine(\"How many numbers you want to input?\");\n",
    "int num = Convert.ToInt32(Console.ReadLine());\n",
    "int[] array1 = new int[10];\n",
    "int[] array2 = new int[10];\n",
    "int[] array3 = new int[10];\n",
    "int i, j = 0, k = 0;\n",
    "\n",
    "//validating input of user\n",
    "Console.WriteLine(\"Enter {0} numbers in the array :\", num);\n",
    "for (i = 0; i < num; i++)\n",
    "{\n",
    "    Console.Write(\"Number - {0} : \", i + 1);\n",
    "    array1[i] = Convert.ToInt32(Console.ReadLine());\n",
    "}\n",
    "\n",
    "//checking for odd and even numbers\n",
    "for (i = 0; i < num; i++)\n",
    "{\n",
    "    if (array1[i] % 2 == 0)\n",
    "    {\n",
    "        array2[j] = array1[i];\n",
    "        j++;\n",
    "    }\n",
    "    else\n",
    "    {\n",
    "        array3[k] = array1[i];\n",
    "        k++;\n",
    "    }\n",
    "}\n",
    "\n",
    "//printing even numbers\n",
    "Console.WriteLine(\"Even numbers are:\");\n",
    "for (i = 0; i < j; i++)\n",
    "{\n",
    "    Console.Write(\"{0} \", array2[i]);\n",
    "}\n",
    "Console.WriteLine();\n",
    "Console.WriteLine(\"---------------------------------------------\");\n",
    "\n",
    "//printing odd numbers\n",
    "Console.WriteLine(\"Odd numbers are:\");\n",
    "for (i = 0; i < k; i++)\n",
    "{\n",
    "    Console.Write(\"{0} \", array3[i]);\n",
    "}"
   ]
  },
  {
   "cell_type": "code",
   "execution_count": 10,
   "id": "186ae302",
   "metadata": {},
   "outputs": [
    {
     "name": "stdout",
     "output_type": "stream",
     "text": [
      "True"
     ]
    }
   ],
   "source": [
    "// Question 5\n",
    "//5a\n",
    "//creating function to check if a point lies in a rectangle\n",
    "static void inside(double x, double y, double x1, double y1, double x2, double y2)\n",
    "{\n",
    "    //setting conditions\n",
    "    if (x > x1 && x < x2 && y > y1 && y < y2)\n",
    "    {\n",
    "        Console.Write(\"True\");\n",
    "    }\n",
    "    else\n",
    "        Console.Write(\"False\");\n",
    "}\n",
    "//calling function\n",
    "inside(1, 1, 0, 0, 2, 3);"
   ]
  },
  {
   "cell_type": "code",
   "execution_count": 12,
   "id": "ae73a392",
   "metadata": {},
   "outputs": [
    {
     "name": "stdout",
     "output_type": "stream",
     "text": [
      "Program to check whether the point lies inside the rectangle\n",
      "For (1, 1, 0.3, 0.5, 1.1, 0.7)\n",
      "False\n",
      "\n",
      "For (1, 1, 0.5, 0.2, 1.1, 2)\n",
      "True"
     ]
    }
   ],
   "source": [
    "//5b\n",
    "//defining function to test if a point lies in a rectangle using the previously created function inside\n",
    "static void Main()\n",
    "{\n",
    "    //checking first points\n",
    "    Console.WriteLine(\"Program to check whether the point lies inside the rectangle\");\n",
    "    Console.WriteLine(\"For (1, 1, 0.3, 0.5, 1.1, 0.7)\");\n",
    "    inside(1, 1, 0.3, 0.5, 1.1, 0.7);\n",
    "    Console.WriteLine();\n",
    "    Console.WriteLine();\n",
    "\n",
    "    //checking second points\n",
    "    Console.WriteLine(\"For (1, 1, 0.5, 0.2, 1.1, 2)\");\n",
    "    inside(1, 1, 0.5, 0.2, 1.1, 2);\n",
    "}\n",
    "\n",
    "//calling function\n",
    "Main();"
   ]
  }
 ],
 "metadata": {
  "kernelspec": {
   "display_name": ".NET (C#)",
   "language": "C#",
   "name": ".net-csharp"
  },
  "language_info": {
   "file_extension": ".cs",
   "mimetype": "text/x-csharp",
   "name": "C#",
   "pygments_lexer": "csharp",
   "version": "8.0"
  }
 },
 "nbformat": 4,
 "nbformat_minor": 5
}
