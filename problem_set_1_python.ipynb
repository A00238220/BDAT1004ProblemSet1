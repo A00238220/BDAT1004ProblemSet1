{
 "cells": [
  {
   "cell_type": "code",
   "execution_count": 1,
   "id": "981e5d19",
   "metadata": {},
   "outputs": [],
   "source": [
    "#Question 6\n",
    "\n",
    "#defining a function to take input and return output in Pig Latin\n",
    "def pig(userInput):\n",
    "    \n",
    "    #setting vowels\n",
    "    vowels = ['a', 'e', 'i', 'o', 'u']\n",
    "    \n",
    "    #setting output based on some conditions\n",
    "    if userInput[0].lower() in vowels:\n",
    "        return f\"{userInput}way\"\n",
    "    if userInput[0].lower() not in vowels:\n",
    "        index = userInput[1:]\n",
    "        return f\"{index}{userInput[0]}ay\""
   ]
  },
  {
   "cell_type": "code",
   "execution_count": 2,
   "id": "00f48466",
   "metadata": {},
   "outputs": [
    {
     "data": {
      "text/plain": [
       "'appyhay'"
      ]
     },
     "execution_count": 2,
     "metadata": {},
     "output_type": "execute_result"
    }
   ],
   "source": [
    "pig('happy')"
   ]
  },
  {
   "cell_type": "code",
   "execution_count": 3,
   "id": "e70a0744",
   "metadata": {},
   "outputs": [
    {
     "data": {
      "text/plain": [
       "'Enterway'"
      ]
     },
     "execution_count": 3,
     "metadata": {},
     "output_type": "execute_result"
    }
   ],
   "source": [
    "pig('Enter')"
   ]
  },
  {
   "cell_type": "code",
   "execution_count": 10,
   "id": "a86addc5",
   "metadata": {},
   "outputs": [],
   "source": [
    "#Question 7\n",
    "\n",
    "#defining a function to readfile and output result based on intructions\n",
    "def bldcount(filename):    \n",
    "    #reading the file\n",
    "    readFile = open(filename,'r')\n",
    "    readLine = readFile.readline()\n",
    "    emptyList = []\n",
    "    blood_types = ['A','B','AB','O','OO']\n",
    "    \n",
    "    #Spliting the words and appending them into empty list\n",
    "    emptyList.append(readLine.split(\" \"))\n",
    "    \n",
    "    #checking the count for each blood type\n",
    "    for blood_type in blood_types:\n",
    "        print(\"There are {} patients of blood type {}.\".format(emptyList[0].count(blood_type),blood_type))"
   ]
  },
  {
   "cell_type": "code",
   "execution_count": 11,
   "id": "bd58ace8",
   "metadata": {},
   "outputs": [
    {
     "name": "stdout",
     "output_type": "stream",
     "text": [
      "There are 15 patients of blood type A.\n",
      "There are 1 patients of blood type B.\n",
      "There are 13 patients of blood type AB.\n",
      "There are 15 patients of blood type O.\n",
      "There are 0 patients of blood type OO.\n"
     ]
    }
   ],
   "source": [
    "bldcount('bloodtype1.txt')"
   ]
  },
  {
   "cell_type": "code",
   "execution_count": 48,
   "id": "a4fc9a3d",
   "metadata": {},
   "outputs": [],
   "source": [
    "#Question 8\n",
    "\n",
    "#defining a function that takes two inputs and returns its equivalent amount in US dollars\n",
    "def curconv(currency, amount):\n",
    "    \n",
    "    #creating empty dictionary\n",
    "    currencies = {}\n",
    "    \n",
    "    #reading the file and lines\n",
    "    currFile = open('currencies.txt')\n",
    "    lines = currFile.readlines()\n",
    "    \n",
    "    #storing the currency as key and it's corresponding value in empty dictionary\n",
    "    for line in lines:\n",
    "        currencies[line[:3]] = line[4:13]\n",
    "#     print(currencies)\n",
    "    value = currencies[currency]\n",
    "    print(amount * float(value))"
   ]
  },
  {
   "cell_type": "code",
   "execution_count": 62,
   "id": "40e07bb2",
   "metadata": {},
   "outputs": [
    {
     "name": "stdout",
     "output_type": "stream",
     "text": [
      "122.96544\n"
     ]
    }
   ],
   "source": [
    "curconv('EUR', 100)"
   ]
  },
  {
   "cell_type": "code",
   "execution_count": 63,
   "id": "9459669a",
   "metadata": {},
   "outputs": [
    {
     "name": "stdout",
     "output_type": "stream",
     "text": [
      "1.2414\n"
     ]
    }
   ],
   "source": [
    "curconv('JPY', 100)"
   ]
  },
  {
   "cell_type": "code",
   "execution_count": 53,
   "id": "0a4472a7",
   "metadata": {},
   "outputs": [],
   "source": [
    "#Question 9\n",
    "\n",
    "#Trying to add incompatible variables, as in adding 6 + ‘a’\n",
    "#Error --> unsupported operand type(s) for +: 'int' and 'str'\n",
    "\n",
    "#Referring to the 12th item of a list that has only 10 items\n",
    "#Error --> out of index\n",
    "\n",
    "#Using a value that is out of range for a function’s input, such as calling math.sqrt(-1.0)\n",
    "#Error --> domain error\n",
    "\n",
    "#Using an undeclared variable, such as print(x) when x has not been defined\n",
    "#Error --> variable not defined\n",
    "\n",
    "#Trying to open a file that does not exist, such as mistyping the file name or looking in the wrong directory.\n",
    "#Error --> no such directory found\n"
   ]
  },
  {
   "cell_type": "code",
   "execution_count": 59,
   "id": "08dc48d0",
   "metadata": {},
   "outputs": [],
   "source": [
    "#Question 10\n",
    "\n",
    "#defining a function that takes input and returns a list of letter frequencies for each letter\n",
    "def frequencies(text):    \n",
    "    #setting alphabets\n",
    "    alphabets = ('a','b','c','d','e','f','g','h','i','j','k','l','m','n','o','p','q','r','s','t','u','v','w','x','y','z')\n",
    "    \n",
    "    #creating empty list and dictionary\n",
    "    characters = []\n",
    "    alpha_dict = {}\n",
    "    \n",
    "    #checking inputted text for alphabets and appending to character list.\n",
    "    for word in text:\n",
    "        for char in word:\n",
    "            if char.isalpha():\n",
    "                characters.append(char)\n",
    "                \n",
    "    #checking if the alphabet is contained in the character list and appending to a dictionary with its corresponding count\n",
    "    for char in alphabets:\n",
    "        if char in characters:\n",
    "            alpha_dict[char] = characters.count(char)\n",
    "        else:\n",
    "            alpha_dict[char] = 0\n",
    "            \n",
    "    #printing list of value(i.e count) of alphabet in the character list\n",
    "    print(list(alpha_dict.values()))"
   ]
  },
  {
   "cell_type": "code",
   "execution_count": 61,
   "id": "eb04a26a",
   "metadata": {},
   "outputs": [
    {
     "name": "stdout",
     "output_type": "stream",
     "text": [
      "[1, 1, 1, 3, 5, 1, 1, 2, 1, 0, 1, 0, 1, 2, 4, 0, 1, 2, 0, 2, 1, 0, 1, 1, 0, 0]\n"
     ]
    }
   ],
   "source": [
    "frequencies('The quick red fox got bored and went home.')"
   ]
  },
  {
   "cell_type": "code",
   "execution_count": null,
   "id": "2f90e9ce",
   "metadata": {},
   "outputs": [],
   "source": []
  }
 ],
 "metadata": {
  "kernelspec": {
   "display_name": "Python 3 (ipykernel)",
   "language": "python",
   "name": "python3"
  },
  "language_info": {
   "codemirror_mode": {
    "name": "ipython",
    "version": 3
   },
   "file_extension": ".py",
   "mimetype": "text/x-python",
   "name": "python",
   "nbconvert_exporter": "python",
   "pygments_lexer": "ipython3",
   "version": "3.10.7"
  }
 },
 "nbformat": 4,
 "nbformat_minor": 5
}
